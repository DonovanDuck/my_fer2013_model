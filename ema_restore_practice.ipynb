{
 "cells": [
  {
   "cell_type": "markdown",
   "metadata": {},
   "source": [
    "# 调试一下EMA问题\n",
    "专门调EMA问题\n",
    "#先做个最简单的测试\n",
    "#把saver有没有参数的情况都测一下\n",
    "#然后把整个网络的存储也测一下"
   ]
  },
  {
   "cell_type": "markdown",
   "metadata": {},
   "source": []
  },
  {
   "cell_type": "code",
   "execution_count": null,
   "metadata": {
    "collapsed": true
   },
   "outputs": [],
   "source": [
    "其他内容放到\n",
    "tensorflow_demo/model_save_restore_practice.ipynb"
   ]
  },
  {
   "cell_type": "code",
   "execution_count": null,
   "metadata": {
    "collapsed": true
   },
   "outputs": [],
   "source": []
  },
  {
   "cell_type": "code",
   "execution_count": null,
   "metadata": {
    "collapsed": true
   },
   "outputs": [],
   "source": []
  },
  {
   "cell_type": "code",
   "execution_count": 1,
   "metadata": {
    "collapsed": true
   },
   "outputs": [],
   "source": [
    "#读取：不定义变量，直接恢复？那样怎么验证？直接获取所有变量？"
   ]
  },
  {
   "cell_type": "code",
   "execution_count": null,
   "metadata": {
    "collapsed": true
   },
   "outputs": [],
   "source": []
  },
  {
   "cell_type": "code",
   "execution_count": null,
   "metadata": {
    "collapsed": true
   },
   "outputs": [],
   "source": []
  },
  {
   "cell_type": "code",
   "execution_count": null,
   "metadata": {
    "collapsed": true
   },
   "outputs": [],
   "source": []
  },
  {
   "cell_type": "code",
   "execution_count": null,
   "metadata": {
    "collapsed": true
   },
   "outputs": [],
   "source": []
  },
  {
   "cell_type": "markdown",
   "metadata": {},
   "source": [
    "# 过程：先全读出来，打印一下所有变量看一下。\n",
    "先说重点：指定var_list，每个变量都要有自己的名字！！！如果给模型改过变量名，之前的model废了！\n",
    "保持这个原则，读取正常\n",
    "\n",
    "\n",
    "常见问题：主要就是找不到变量和形状不匹配两个问题"
   ]
  },
  {
   "cell_type": "code",
   "execution_count": 4,
   "metadata": {
    "collapsed": true
   },
   "outputs": [],
   "source": [
    "import tensorflow as tf\n",
    "import fer_config as config\n",
    "import fer_forward\n",
    "import fer_backward\n",
    "import fer_generator\n",
    "TEST_INTERVAL_SECS = 5\n",
    "TEST_NUM = 3589"
   ]
  },
  {
   "cell_type": "code",
   "execution_count": 5,
   "metadata": {},
   "outputs": [
    {
     "name": "stdout",
     "output_type": "stream",
     "text": [
      "<class 'dict'> 24\n",
      "{'fc2_b_1/ExponentialMovingAverage': <tf.Variable 'fc2_b_1:0' shape=(512,) dtype=float32_ref>, 'fc2_b/ExponentialMovingAverage': <tf.Variable 'fc2_b:0' shape=(512,) dtype=float32_ref>, 'fc2_w/ExponentialMovingAverage': <tf.Variable 'fc2_w:0' shape=(512, 512) dtype=float32_ref>, 'conv1_b/ExponentialMovingAverage': <tf.Variable 'conv1_b:0' shape=(64,) dtype=float32_ref>, 'bn1/gamma/ExponentialMovingAverage': <tf.Variable 'bn1/gamma:0' shape=(64,) dtype=float32_ref>, 'conv2_w/ExponentialMovingAverage': <tf.Variable 'conv2_w:0' shape=(5, 5, 64, 64) dtype=float32_ref>, 'bn1/beta/ExponentialMovingAverage': <tf.Variable 'bn1/beta:0' shape=(64,) dtype=float32_ref>, 'fc1_w/ExponentialMovingAverage': <tf.Variable 'fc1_w:0' shape=(4608, 512) dtype=float32_ref>, 'bn2/gamma/ExponentialMovingAverage': <tf.Variable 'bn2/gamma:0' shape=(64,) dtype=float32_ref>, 'bn3/gamma/ExponentialMovingAverage': <tf.Variable 'bn3/gamma:0' shape=(128,) dtype=float32_ref>, 'fc3_w/ExponentialMovingAverage': <tf.Variable 'fc3_w:0' shape=(512, 7) dtype=float32_ref>, 'conv2_b/ExponentialMovingAverage': <tf.Variable 'conv2_b:0' shape=(64,) dtype=float32_ref>, 'bn2/beta/ExponentialMovingAverage': <tf.Variable 'bn2/beta:0' shape=(64,) dtype=float32_ref>, 'fc3_b/ExponentialMovingAverage': <tf.Variable 'fc3_b:0' shape=(7,) dtype=float32_ref>, 'conv1_w/ExponentialMovingAverage': <tf.Variable 'conv1_w:0' shape=(5, 5, 1, 64) dtype=float32_ref>, 'conv3_w/ExponentialMovingAverage': <tf.Variable 'conv3_w:0' shape=(5, 5, 64, 128) dtype=float32_ref>, 'bn3/beta/ExponentialMovingAverage': <tf.Variable 'bn3/beta:0' shape=(128,) dtype=float32_ref>, 'conv3_b/ExponentialMovingAverage': <tf.Variable 'conv3_b:0' shape=(128,) dtype=float32_ref>, 'bn3/moving_mean': <tf.Variable 'bn3/moving_mean:0' shape=(128,) dtype=float32_ref>, 'bn3/moving_variance': <tf.Variable 'bn3/moving_variance:0' shape=(128,) dtype=float32_ref>, 'bn1/moving_mean': <tf.Variable 'bn1/moving_mean:0' shape=(64,) dtype=float32_ref>, 'bn2/moving_mean': <tf.Variable 'bn2/moving_mean:0' shape=(64,) dtype=float32_ref>, 'bn1/moving_variance': <tf.Variable 'bn1/moving_variance:0' shape=(64,) dtype=float32_ref>, 'bn2/moving_variance': <tf.Variable 'bn2/moving_variance:0' shape=(64,) dtype=float32_ref>}\n",
      "conv1_w:0\n",
      "conv1_b:0\n",
      "bn1/gamma:0\n",
      "bn1/beta:0\n",
      "bn1/moving_mean:0\n",
      "bn1/moving_variance:0\n",
      "conv2_w:0\n",
      "conv2_b:0\n",
      "bn2/gamma:0\n",
      "bn2/beta:0\n",
      "bn2/moving_mean:0\n",
      "bn2/moving_variance:0\n",
      "conv3_w:0\n",
      "conv3_b:0\n",
      "bn3/gamma:0\n",
      "bn3/beta:0\n",
      "bn3/moving_mean:0\n",
      "bn3/moving_variance:0\n",
      "fc1_w:0\n",
      "fc2_b:0\n",
      "fc2_w:0\n",
      "fc2_b_1:0\n",
      "fc3_w:0\n",
      "fc3_b:0\n",
      "filename_queue: <tensorflow.python.ops.data_flow_ops.FIFOQueue object at 0x7f4dc85e4668>\n",
      "INFO:tensorflow:Restoring parameters from /home/qw/Documents/model_saved/fer2013/fer2013_model-9200\n"
     ]
    },
    {
     "ename": "TypeError",
     "evalue": "'Saver' object is not iterable",
     "output_type": "error",
     "traceback": [
      "\u001b[0;31m---------------------------------------------------------------------------\u001b[0m",
      "\u001b[0;31mTypeError\u001b[0m                                 Traceback (most recent call last)",
      "\u001b[0;32m<ipython-input-5-53d3e9a22c43>\u001b[0m in \u001b[0;36m<module>\u001b[0;34m()\u001b[0m\n\u001b[1;32m     28\u001b[0m                 \u001b[0msaver\u001b[0m\u001b[0;34m.\u001b[0m\u001b[0mrestore\u001b[0m\u001b[0;34m(\u001b[0m\u001b[0msess\u001b[0m\u001b[0;34m,\u001b[0m \u001b[0mckpt\u001b[0m\u001b[0;34m.\u001b[0m\u001b[0mmodel_checkpoint_path\u001b[0m\u001b[0;34m)\u001b[0m\u001b[0;34m\u001b[0m\u001b[0m\n\u001b[1;32m     29\u001b[0m \u001b[0;31m#                 print(saver)\u001b[0m\u001b[0;34m\u001b[0m\u001b[0;34m\u001b[0m\u001b[0m\n\u001b[0;32m---> 30\u001b[0;31m                 \u001b[0;32mfor\u001b[0m \u001b[0ms\u001b[0m \u001b[0;32min\u001b[0m \u001b[0msaver\u001b[0m\u001b[0;34m:\u001b[0m\u001b[0;34m\u001b[0m\u001b[0m\n\u001b[0m\u001b[1;32m     31\u001b[0m                     \u001b[0mprint\u001b[0m\u001b[0;34m(\u001b[0m\u001b[0ms\u001b[0m\u001b[0;34m)\u001b[0m\u001b[0;34m\u001b[0m\u001b[0m\n\u001b[1;32m     32\u001b[0m \u001b[0;34m\u001b[0m\u001b[0m\n",
      "\u001b[0;31mTypeError\u001b[0m: 'Saver' object is not iterable"
     ]
    }
   ],
   "source": [
    "with tf.Graph().as_default() as g:\n",
    "    x = tf.placeholder(tf.float32, [TEST_NUM, config.img_width, config.img_height, fer_forward.NUM_CHANNELS])\n",
    "    y_ = tf.placeholder(tf.float32, [None, fer_forward.OUTPUT_NODE])\n",
    "\n",
    "    y = fer_forward.forward(x, False)\n",
    "\n",
    "    ema = tf.train.ExponentialMovingAverage(fer_backward.MOVING_AVERAGE_DECAY)\n",
    "    ema_restore = ema.variables_to_restore()\n",
    "    print(type(ema_restore),len(ema_restore))\n",
    "    print(ema_restore)\n",
    "    \n",
    "    for ele2 in tf.all_variables():#比trainable多一个i哦global step：tf.trainable_variables():\n",
    "        print(ele2.name)\n",
    "    \n",
    "\n",
    "    saver = tf.train.Saver(var_list = ema_restore)#参数\n",
    "#     saver = tf.train.Saver()#没参数版本\n",
    "    #ema的具体变量，应该都在ckpt中吧\n",
    "    correct_prediction = tf.equal(tf.argmax(y,1), tf.argmax(y_,1))\n",
    "    accuracy = tf.reduce_mean(tf.cast(correct_prediction, tf.float32))\n",
    "    \n",
    "    img_batch, label_batch = fer_generator.get_tfrecord(TEST_NUM, config.tfRecord_test)\n",
    "    for i in range(1):\n",
    "        with tf.Session() as sess:\n",
    "            ckpt = tf.train.get_checkpoint_state(config.MODEL_SAVE_PATH)\n",
    "            if ckpt and ckpt.model_checkpoint_path:\n",
    "#                 print(ckpt)\n",
    "                saver.restore(sess, ckpt.model_checkpoint_path)\n",
    "#                 print(saver)\n",
    "                for s in saver:\n",
    "                    print(s)\n",
    "        \n",
    "        \n",
    "        \n"
   ]
  },
  {
   "cell_type": "markdown",
   "metadata": {},
   "source": [
    "# 不规范的和规范的变量名定义\n",
    "{'Variable/ExponentialMovingAverage': <tf.Variable 'Variable:0' shape=(64,) dtype=float32_ref>, 'w1/ExponentialMovingAverage': <tf.Variable 'w1:0' shape=(4608, 512) dtype=float32_ref>, 'Variable_1/ExponentialMovingAverage': <tf.Variable 'Variable_1:0' shape=(64,) dtype=float32_ref>, 'conv2_w/ExponentialMovingAverage': <tf.Variable 'conv2_w:0' shape=(5, 5, 64, 64) dtype=float32_ref>, 'conv1_w/ExponentialMovingAverage': <tf.Variable 'conv1_w:0' shape=(5, 5, 1, 64) dtype=float32_ref>, 'Variable_5/ExponentialMovingAverage': <tf.Variable 'Variable_5:0' shape=(7,) dtype=float32_ref>, 'Variable_3/ExponentialMovingAverage': <tf.Variable 'Variable_3:0' shape=(512,) dtype=float32_ref>, 'w2/ExponentialMovingAverage': <tf.Variable 'w2:0' shape=(512, 512) dtype=float32_ref>, 'conv3_w/ExponentialMovingAverage': <tf.Variable 'conv3_w:0' shape=(5, 5, 64, 128) dtype=float32_ref>, 'Variable_2/ExponentialMovingAverage': <tf.Variable 'Variable_2:0' shape=(128,) dtype=float32_ref>, 'Variable_4/ExponentialMovingAverage': <tf.Variable 'Variable_4:0' shape=(512,) dtype=float32_ref>, 'w3/ExponentialMovingAverage': <tf.Variable 'w3:0' shape=(512, 7) dtype=float32_ref>}\n",
    "\n",
    "{'fc1_w/ExponentialMovingAverage': <tf.Variable 'fc1_w:0' shape=(4608, 512) dtype=float32_ref>, 'conv1_w/ExponentialMovingAverage': <tf.Variable 'conv1_w:0' shape=(5, 5, 1, 64) dtype=float32_ref>, 'conv2_w/ExponentialMovingAverage': <tf.Variable 'conv2_w:0' shape=(5, 5, 64, 64) dtype=float32_ref>, 'conv3_w/ExponentialMovingAverage': <tf.Variable 'conv3_w:0' shape=(5, 5, 64, 128) dtype=float32_ref>, 'fc2_b/ExponentialMovingAverage': <tf.Variable 'fc2_b:0' shape=(512,) dtype=float32_ref>, 'fc2_w/ExponentialMovingAverage': <tf.Variable 'fc2_w:0' shape=(512, 512) dtype=float32_ref>, 'fc2_b_1/ExponentialMovingAverage': <tf.Variable 'fc2_b_1:0' shape=(512,) dtype=float32_ref>, 'conv1_b/ExponentialMovingAverage': <tf.Variable 'conv1_b:0' shape=(64,) dtype=float32_ref>, 'conv3_b/ExponentialMovingAverage': <tf.Variable 'conv3_b:0' shape=(128,) dtype=float32_ref>, 'fc3_b/ExponentialMovingAverage': <tf.Variable 'fc3_b:0' shape=(7,) dtype=float32_ref>, 'fc3_w/ExponentialMovingAverage': <tf.Variable 'fc3_w:0' shape=(512, 7) dtype=float32_ref>, 'conv2_b/ExponentialMovingAverage': <tf.Variable 'conv2_b:0' shape=(64,) dtype=float32_ref>}"
   ]
  },
  {
   "cell_type": "code",
   "execution_count": 2,
   "metadata": {},
   "outputs": [
    {
     "name": "stdout",
     "output_type": "stream",
     "text": [
      "<class 'dict'> 12\n",
      "{'conv2_b/ExponentialMovingAverage': <tf.Variable 'conv2_b:0' shape=(64,) dtype=float32_ref>, 'fc1_w/ExponentialMovingAverage': <tf.Variable 'fc1_w:0' shape=(4608, 512) dtype=float32_ref>, 'conv1_w/ExponentialMovingAverage': <tf.Variable 'conv1_w:0' shape=(5, 5, 1, 64) dtype=float32_ref>, 'conv2_w/ExponentialMovingAverage': <tf.Variable 'conv2_w:0' shape=(5, 5, 64, 64) dtype=float32_ref>, 'conv3_w/ExponentialMovingAverage': <tf.Variable 'conv3_w:0' shape=(5, 5, 64, 128) dtype=float32_ref>, 'fc2_b/ExponentialMovingAverage': <tf.Variable 'fc2_b:0' shape=(512,) dtype=float32_ref>, 'fc2_w/ExponentialMovingAverage': <tf.Variable 'fc2_w:0' shape=(512, 512) dtype=float32_ref>, 'fc2_b_1/ExponentialMovingAverage': <tf.Variable 'fc2_b_1:0' shape=(512,) dtype=float32_ref>, 'conv1_b/ExponentialMovingAverage': <tf.Variable 'conv1_b:0' shape=(64,) dtype=float32_ref>, 'fc3_b/ExponentialMovingAverage': <tf.Variable 'fc3_b:0' shape=(7,) dtype=float32_ref>, 'conv3_b/ExponentialMovingAverage': <tf.Variable 'conv3_b:0' shape=(128,) dtype=float32_ref>, 'fc3_w/ExponentialMovingAverage': <tf.Variable 'fc3_w:0' shape=(512, 7) dtype=float32_ref>}\n",
      "WARNING:tensorflow:From <ipython-input-2-aa46d8384207>:12: all_variables (from tensorflow.python.ops.variables) is deprecated and will be removed after 2017-03-02.\n",
      "Instructions for updating:\n",
      "Please use tf.global_variables instead.\n",
      "conv1_w:0\n",
      "conv1_b:0\n",
      "conv2_w:0\n",
      "conv2_b:0\n",
      "conv3_w:0\n",
      "conv3_b:0\n",
      "fc1_w:0\n",
      "fc2_b:0\n",
      "fc2_w:0\n",
      "fc2_b_1:0\n",
      "fc3_w:0\n",
      "fc3_b:0\n",
      "filename_queue: <tensorflow.python.ops.data_flow_ops.FIFOQueue object at 0x7f9320897908>\n",
      "INFO:tensorflow:Restoring parameters from /home/qw/Documents/model_saved/fer2013/fer2013_model-6500\n",
      "<tensorflow.python.training.saver.Saver object at 0x7f9320987e10>\n"
     ]
    }
   ],
   "source": [
    "with tf.Graph().as_default() as g:\n",
    "    x = tf.placeholder(tf.float32, [TEST_NUM, config.img_width, config.img_height, fer_forward.NUM_CHANNELS])\n",
    "    y_ = tf.placeholder(tf.float32, [None, fer_forward.OUTPUT_NODE])\n",
    "\n",
    "    y = fer_forward.forward(x, False)\n",
    "\n",
    "    ema = tf.train.ExponentialMovingAverage(fer_backward.MOVING_AVERAGE_DECAY)\n",
    "    ema_restore = ema.variables_to_restore()\n",
    "    print(type(ema_restore),len(ema_restore))\n",
    "    print(ema_restore)\n",
    "    \n",
    "    for ele2 in tf.all_variables():#比trainable多一个i哦global step：tf.trainable_variables():\n",
    "        print(ele2.name)\n",
    "    \n",
    "\n",
    "#     saver = tf.train.Saver(var_list = ema_restore)#参数\n",
    "    saver = tf.train.Saver()#没参数版本\n",
    "    #ema的具体变量，应该都在ckpt中吧\n",
    "    correct_prediction = tf.equal(tf.argmax(y,1), tf.argmax(y_,1))\n",
    "    accuracy = tf.reduce_mean(tf.cast(correct_prediction, tf.float32))\n",
    "    \n",
    "    img_batch, label_batch = fer_generator.get_tfrecord(TEST_NUM, config.tfRecord_test)\n",
    "    for i in range(1):\n",
    "        with tf.Session() as sess:\n",
    "            ckpt = tf.train.get_checkpoint_state(config.MODEL_SAVE_PATH)\n",
    "            if ckpt and ckpt.model_checkpoint_path:\n",
    "#                 print(ckpt)\n",
    "                saver.restore(sess, ckpt.model_checkpoint_path)\n",
    "                print(saver)\n",
    "        \n",
    "        \n",
    "        \n"
   ]
  },
  {
   "cell_type": "markdown",
   "metadata": {},
   "source": [
    "{'conv2_b/ExponentialMovingAverage': <tf.Variable 'conv2_b:0' shape=(64,) dtype=float32_ref>, 'fc1_w/ExponentialMovingAverage': <tf.Variable 'fc1_w:0' shape=(4608, 512) dtype=float32_ref>, 'conv1_w/ExponentialMovingAverage': <tf.Variable 'conv1_w:0' shape=(5, 5, 1, 64) dtype=float32_ref>, 'conv2_w/ExponentialMovingAverage': <tf.Variable 'conv2_w:0' shape=(5, 5, 64, 64) dtype=float32_ref>, 'conv3_w/ExponentialMovingAverage': <tf.Variable 'conv3_w:0' shape=(5, 5, 64, 128) dtype=float32_ref>, 'fc2_b/ExponentialMovingAverage': <tf.Variable 'fc2_b:0' shape=(512,) dtype=float32_ref>, 'fc2_w/ExponentialMovingAverage': <tf.Variable 'fc2_w:0' shape=(512, 512) dtype=float32_ref>, 'fc2_b_1/ExponentialMovingAverage': <tf.Variable 'fc2_b_1:0' shape=(512,) dtype=float32_ref>, 'conv1_b/ExponentialMovingAverage': <tf.Variable 'conv1_b:0' shape=(64,) dtype=float32_ref>, 'fc3_b/ExponentialMovingAverage': <tf.Variable 'fc3_b:0' shape=(7,) dtype=float32_ref>, 'conv3_b/ExponentialMovingAverage': <tf.Variable 'conv3_b:0' shape=(128,) dtype=float32_ref>, 'fc3_w/ExponentialMovingAverage': <tf.Variable 'fc3_w:0' shape=(512, 7) dtype=float32_ref>}"
   ]
  },
  {
   "cell_type": "code",
   "execution_count": null,
   "metadata": {
    "collapsed": true
   },
   "outputs": [],
   "source": []
  },
  {
   "cell_type": "code",
   "execution_count": null,
   "metadata": {
    "collapsed": true
   },
   "outputs": [],
   "source": []
  },
  {
   "cell_type": "markdown",
   "metadata": {},
   "source": []
  },
  {
   "cell_type": "code",
   "execution_count": 57,
   "metadata": {
    "collapsed": true
   },
   "outputs": [],
   "source": [
    "# help(ema.variables_to_restore)"
   ]
  },
  {
   "cell_type": "code",
   "execution_count": 58,
   "metadata": {
    "collapsed": true
   },
   "outputs": [],
   "source": [
    "# help(tf.train.Saver)"
   ]
  },
  {
   "cell_type": "code",
   "execution_count": null,
   "metadata": {
    "collapsed": true
   },
   "outputs": [],
   "source": []
  },
  {
   "cell_type": "code",
   "execution_count": null,
   "metadata": {
    "collapsed": true
   },
   "outputs": [],
   "source": []
  },
  {
   "cell_type": "code",
   "execution_count": null,
   "metadata": {
    "collapsed": true
   },
   "outputs": [],
   "source": []
  },
  {
   "cell_type": "code",
   "execution_count": null,
   "metadata": {
    "collapsed": true
   },
   "outputs": [],
   "source": []
  },
  {
   "cell_type": "code",
   "execution_count": null,
   "metadata": {
    "collapsed": true
   },
   "outputs": [],
   "source": []
  },
  {
   "cell_type": "markdown",
   "metadata": {},
   "source": [
    "# 基本操作 tf_demo/save_model_practice.ipynb\n",
    "tensorflow_demo/save_model_practice.ipynb"
   ]
  }
 ],
 "metadata": {
  "kernelspec": {
   "display_name": "virtual py36",
   "language": "python",
   "name": "py36"
  },
  "language_info": {
   "codemirror_mode": {
    "name": "ipython",
    "version": 3
   },
   "file_extension": ".py",
   "mimetype": "text/x-python",
   "name": "python",
   "nbconvert_exporter": "python",
   "pygments_lexer": "ipython3",
   "version": "3.6.1"
  }
 },
 "nbformat": 4,
 "nbformat_minor": 2
}
